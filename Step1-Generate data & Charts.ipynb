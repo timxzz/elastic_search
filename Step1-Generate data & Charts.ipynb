{
 "cells": [
  {
   "cell_type": "code",
   "execution_count": 3,
   "metadata": {
    "collapsed": false
   },
   "outputs": [
    {
     "name": "stderr",
     "output_type": "stream",
     "text": [
      "/root/workspace/anaconda2/lib/python2.7/site-packages/elasticsearch/connection/http_urllib3.py:90: UserWarning: Connecting to 86dd17d952698a0f90485f28a0087669.eu-west-1.aws.found.io using SSL with verify_certs=False is insecure.\n",
      "  'Connecting to %s using SSL with verify_certs=False is insecure.' % host)\n"
     ]
    },
    {
     "data": {
      "text/plain": [
       "{u'_shards': {u'failed': 0, u'successful': 5, u'total': 5}, u'count': 2000000}"
      ]
     },
     "execution_count": 3,
     "metadata": {},
     "output_type": "execute_result"
    }
   ],
   "source": [
    "# Connect to Elastic Cloud\n",
    "from elasticsearch import Elasticsearch\n",
    "from elasticsearch import helpers\n",
    "import urllib3\n",
    "urllib3.disable_warnings()\n",
    "\n",
    "\n",
    "es = Elasticsearch(\n",
    "    ['https://86dd17d952698a0f90485f28a0087669.eu-west-1.aws.found.io'],\n",
    "    port=9243,\n",
    "    http_auth='elastic:9X4hmUZXasOBuF49ujcGBqLS',\n",
    "    verify_certs=False\n",
    ")\n",
    "\n",
    "es.count(index='events', doc_type='batch2')"
   ]
  },
  {
   "cell_type": "code",
   "execution_count": 4,
   "metadata": {
    "collapsed": false
   },
   "outputs": [
    {
     "name": "stdout",
     "output_type": "stream",
     "text": [
      "........................................................................................................................................................................................................Done!\n"
     ]
    }
   ],
   "source": [
    "from __future__ import print_function\n",
    "\n",
    "gen = helpers.scan(es,\n",
    "    query={\"query\": {\"match_all\": {}}},\n",
    "    index=\"events\",\n",
    "    doc_type=\"batch2\"\n",
    ")\n",
    "\n",
    "# Get all filesize\n",
    "i = 0\n",
    "filesizes = []\n",
    "for event in gen:\n",
    "    if i % 10000 == 0:\n",
    "            print('.', end='')\n",
    "    i += 1\n",
    "    #print(event)\n",
    "    filesizes.append(int(event['_source']['bytes']))\n",
    "print(\"Done!\")"
   ]
  },
  {
   "cell_type": "code",
   "execution_count": 5,
   "metadata": {
    "collapsed": false,
    "scrolled": false
   },
   "outputs": [
    {
     "data": {
      "text/plain": [
       "<matplotlib.text.Text at 0x7f726cb2fe50>"
      ]
     },
     "execution_count": 5,
     "metadata": {},
     "output_type": "execute_result"
    },
    {
     "name": "stderr",
     "output_type": "stream",
     "text": [
      "/root/workspace/anaconda2/lib/python2.7/site-packages/matplotlib/font_manager.py:1297: UserWarning: findfont: Font family [u'sans-serif'] not found. Falling back to DejaVu Sans\n",
      "  (prop.get_family(), self.defaultFamily[fontext]))\n"
     ]
    },
    {
     "data": {
      "image/png": "[encoded data removed]",
      "text/plain": [
       "<matplotlib.figure.Figure at 0x7f72a05d63d0>"
      ]
     },
     "metadata": {},
     "output_type": "display_data"
    }
   ],
   "source": [
    "%matplotlib inline\n",
    "import numpy as np\n",
    "import pandas as pd\n",
    "from scipy import stats, integrate\n",
    "import matplotlib.pyplot as plt\n",
    "import seaborn as sns, numpy as np\n",
    "sns.set(rc={\"figure.figsize\": (16, 8)})\n",
    "ax = sns.distplot(filesizes, bins=100, kde=True, rug=False)\n",
    "ax.set_xlabel(\"Filesizes (MB)\")"
   ]
  },
  {
   "cell_type": "code",
   "execution_count": 18,
   "metadata": {
    "collapsed": false
   },
   "outputs": [
    {
     "name": "stdout",
     "output_type": "stream",
     "text": [
      "........................................................................................................................................................................................................Done!\n"
     ]
    }
   ],
   "source": [
    "gen = helpers.scan(es,\n",
    "    query={\"query\": {\"match_all\": {}}},\n",
    "    index=\"events\",\n",
    "    doc_type=\"batch2\"\n",
    ")\n",
    "\n",
    "dc = np.zeros((5,5), dtype=np.int)\n",
    "dc_filesize = np.zeros((5,5), dtype=np.int)\n",
    "\n",
    "data_centres = [\"data centre a\",\n",
    "                \"data centre b\",\n",
    "                \"data centre c\",\n",
    "                \"data centre d\",\n",
    "                \"data centre e\"]\n",
    "data_centres.index(\"data centre d\")\n",
    "\n",
    "# Get all filesize\n",
    "i = 0\n",
    "event_types = [0,0,0]\n",
    "event_types_names = []\n",
    "for event in gen:\n",
    "    if i % 10000 == 0:\n",
    "            print('.', end='')\n",
    "    i += 1\n",
    "    #print(event)\n",
    "    src = data_centres.index(event['_source']['src_site'])\n",
    "    dst = data_centres.index(event['_source']['dst_site'])\n",
    "    \n",
    "    if event['_source']['event_type'] == 'transfer-success':\n",
    "        dc[src][dst] += 1\n",
    "        dc_filesize[src][dst] += event['_source']['bytes']\n",
    "\n",
    "print(\"Done!\")"
   ]
  },
  {
   "cell_type": "code",
   "execution_count": 51,
   "metadata": {
    "collapsed": false
   },
   "outputs": [
    {
     "data": {
      "text/plain": [
       "<matplotlib.text.Text at 0x7f72669f4210>"
      ]
     },
     "execution_count": 51,
     "metadata": {},
     "output_type": "execute_result"
    },
    {
     "data": {
      "image/png": "[encoded data removed]",
      "text/plain": [
       "<matplotlib.figure.Figure at 0x7f7266b84390>"
      ]
     },
     "metadata": {},
     "output_type": "display_data"
    }
   ],
   "source": [
    "import pandas as pd\n",
    "from string import letters\n",
    "sns.set(style=\"white\")\n",
    "\n",
    "dc[dc==0] += 1\n",
    "avg_throughput = dc_filesize / dc.astype(float)\n",
    "hmap = pd.DataFrame(data=avg_throughput.astype(int),\n",
    "                    columns=list(letters[:5]))\n",
    "\n",
    "# Generate a mask for the upper triangle\n",
    "mask = np.zeros_like(avg_throughput, dtype=np.bool)\n",
    "mask[np.triu_indices_from(avg_throughput)] = True\n",
    "\n",
    "# Set up the matplotlib figure\n",
    "f, ax = plt.subplots(figsize=(5, 4))\n",
    "\n",
    "# Draw the heatmap with the mask and correct aspect ratio\n",
    "sns.heatmap(hmap, mask=mask, cmap=cmap,\n",
    "            square=True, xticklabels=True, yticklabels=list(letters[:5]),\n",
    "            cbar_kws={\"shrink\": .5}, ax=ax)\n",
    "plt.title(\"Average throughput between two sites\")"
   ]
  },
  {
   "cell_type": "code",
   "execution_count": null,
   "metadata": {
    "collapsed": true
   },
   "outputs": [],
   "source": []
  }
 ],
 "metadata": {
  "kernelspec": {
   "display_name": "Python 2",
   "language": "python",
   "name": "python2"
  },
  "language_info": {
   "codemirror_mode": {
    "name": "ipython",
    "version": 2
   },
   "file_extension": ".py",
   "mimetype": "text/x-python",
   "name": "python",
   "nbconvert_exporter": "python",
   "pygments_lexer": "ipython2",
   "version": "2.7.13"
  }
 },
 "nbformat": 4,
 "nbformat_minor": 2
}
