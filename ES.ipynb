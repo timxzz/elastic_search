{
 "cells": [
  {
   "cell_type": "code",
   "execution_count": 11,
   "metadata": {
    "collapsed": false
   },
   "outputs": [
    {
     "data": {
      "text/plain": [
       "{u'active_primary_shards': 5,\n",
       " u'active_shards': 10,\n",
       " u'active_shards_percent_as_number': 100.0,\n",
       " u'cluster_name': u'86dd17d952698a0f90485f28a0087669',\n",
       " u'delayed_unassigned_shards': 0,\n",
       " u'initializing_shards': 0,\n",
       " u'number_of_data_nodes': 2,\n",
       " u'number_of_in_flight_fetch': 0,\n",
       " u'number_of_nodes': 3,\n",
       " u'number_of_pending_tasks': 0,\n",
       " u'relocating_shards': 0,\n",
       " u'status': u'green',\n",
       " u'task_max_waiting_in_queue_millis': 0,\n",
       " u'timed_out': False,\n",
       " u'unassigned_shards': 0}"
      ]
     },
     "execution_count": 11,
     "metadata": {},
     "output_type": "execute_result"
    }
   ],
   "source": [
    "# Connect to Elastic Cloud\n",
    "from elasticsearch import Elasticsearch\n",
    "import urllib3\n",
    "urllib3.disable_warnings()\n",
    "\n",
    "\n",
    "es = Elasticsearch(\n",
    "    ['https://86dd17d952698a0f90485f28a0087669.eu-west-1.aws.found.io'],\n",
    "    port=9243,\n",
    "    http_auth='elastic:9X4hmUZXasOBuF49ujcGBqLS',\n",
    "    verify_certs=False\n",
    ")\n",
    "\n",
    "es.cluster.health()\n"
   ]
  },
  {
   "cell_type": "code",
   "execution_count": 15,
   "metadata": {
    "collapsed": false
   },
   "outputs": [
    {
     "data": {
      "text/plain": [
       "'2017-03-12T21:58:53'"
      ]
     },
     "execution_count": 15,
     "metadata": {},
     "output_type": "execute_result"
    }
   ],
   "source": [
    "# Prepare for uuid, data_centres, event_types, timestamp\n",
    "import uuid\n",
    "str(uuid.uuid4())\n",
    "\n",
    "data_centres = [\"data centre a\",\n",
    "                \"data centre b\",\n",
    "                \"data centre c\",\n",
    "                \"data centre d\",\n",
    "                \"data centre e\"]\n",
    "\n",
    "event_types = [\"transfer-queued\", \"transfer-success\", \"transfer-failed\"]\n",
    "\n",
    "import datetime\n",
    "datetime.datetime.now().replace(microsecond=0).isoformat()\n",
    "\n",
    "#event={}"
   ]
  },
  {
   "cell_type": "code",
   "execution_count": 18,
   "metadata": {
    "collapsed": false
   },
   "outputs": [
    {
     "data": {
      "image/png": "[encoded data removed]",
      "text/plain": [
       "<matplotlib.figure.Figure at 0x7f8ed13e6a10>"
      ]
     },
     "metadata": {},
     "output_type": "display_data"
    }
   ],
   "source": [
    "# Look for a good distribution of file size\n",
    "import numpy as np\n",
    "from scipy.stats import norm\n",
    "import random\n",
    "mu1, sigma1=100, 10     # 100MB\n",
    "mu2, sigma2=2000, 50    # 2GB\n",
    "mu3, sigma3=5000, 100    # 5GB\n",
    "dist1 = norm(mu1, sigma1)\n",
    "dist2 = norm(mu2, sigma2)\n",
    "dist3 = norm(mu3, sigma3)\n",
    "\n",
    "\n",
    "#random.gauss(mu1, sigma1)\n",
    "\n",
    "#s = np.random.normal(mu1, sigma1, 1000)\n",
    "#s = np.random.normal(mu2, sigma2, 1000)\n",
    "#s = np.random.normal(mu3, sigma3, 1000)\n",
    "import matplotlib.pyplot as plt\n",
    "import matplotlib.mlab as mlab\n",
    "import math\n",
    "\n",
    "x = np.linspace(0, 6000, 1000)\n",
    "plt.plot(x, dist1.pdf(x))\n",
    "plt.plot(x, dist2.pdf(x))\n",
    "plt.plot(x, dist3.pdf(x))\n",
    "plt.show()"
   ]
  },
  {
   "cell_type": "code",
   "execution_count": 102,
   "metadata": {
    "collapsed": false
   },
   "outputs": [],
   "source": [
    "# utilities functions for create event\n",
    "\n",
    "import random\n",
    "import uuid\n",
    "import datetime\n",
    "import copy\n",
    "from __future__ import print_function\n",
    "# Connect to Elastic Cloud\n",
    "from elasticsearch import Elasticsearch\n",
    "from elasticsearch import helpers\n",
    "import urllib3\n",
    "urllib3.disable_warnings()\n",
    "\n",
    "\n",
    "\n",
    "es = Elasticsearch(\n",
    "    ['https://86dd17d952698a0f90485f28a0087669.eu-west-1.aws.found.io'],\n",
    "    port=9243,\n",
    "    http_auth='elastic:9X4hmUZXasOBuF49ujcGBqLS',\n",
    "    verify_certs=False\n",
    ")\n",
    "\n",
    "\n",
    "event_types = [\"transfer-queued\", \"transfer-success\", \"transfer-failed\"]\n",
    "data_centres = [\"data centre a\",\n",
    "                \"data centre b\",\n",
    "                \"data centre c\",\n",
    "                \"data centre d\",\n",
    "                \"data centre e\"]\n",
    "\n",
    "\n",
    "# 95% succeed, 5% failures\n",
    "def generate_event_types():\n",
    "    if random.random() <= 0.95:\n",
    "        return event_types[1]\n",
    "    else:\n",
    "        return event_types[2]\n",
    "    \n",
    "# UUID4\n",
    "def generate_uuid():\n",
    "    return uuid.uuid4()\n",
    "\n",
    "# randon file size based on guassians around 100MB, 2GB, 5GB\n",
    "def generate_file_size():\n",
    "    randSizeCentroid = random.random()\n",
    "    mu, sigma=0, 0.5\n",
    "    \n",
    "    # Around 100MB\n",
    "    if randSizeCentroid < 0.333:\n",
    "        mu, sigma=100, 10\n",
    "    # Around 2GB\n",
    "    elif randSizeCentroid < 0.666:\n",
    "        mu, sigma=2000, 50\n",
    "    # Around 5GB\n",
    "    else:\n",
    "        mu, sigma=5000, 100\n",
    "    \n",
    "    size = random.gauss(mu, sigma)\n",
    "    while size <= 0 and size >=10000:\n",
    "        size = random.gauss(mu, sigma)\n",
    "    \n",
    "    return int(size * 1000000) # convert into bytes\n",
    "\n",
    "# generate start timestamp\n",
    "def generate_start_time(microsecond_shift):\n",
    "    timenow = datetime.datetime.now()\n",
    "    time_generated = timenow + datetime.timedelta(microseconds=microsecond_shift)\n",
    "    return time_generated.replace(microsecond=0).isoformat()\n",
    "\n",
    "# generate end timestamp\n",
    "def generate_end_time(start_time, filesize):\n",
    "    k = (3600.0 - 60.0) / 10000000000.0 # (transmission time range in seconds / size range in Bytes)\n",
    "    start_time_datetime = datetime.datetime.strptime(start_time, \"%Y-%m-%dT%H:%M:%S\")\n",
    "    arrival_time = start_time_datetime + datetime.timedelta(seconds=int(filesize * k))\n",
    "    return arrival_time.isoformat()\n",
    "\n",
    "# genenrate two random data centres\n",
    "def generate_data_centres():\n",
    "    ds_max_index = len(data_centres) - 1\n",
    "    src = random.randint(0, ds_max_index)\n",
    "    dst = random.randint(0, ds_max_index)\n",
    "    while dst == src:\n",
    "        dst = random.randint(0, ds_max_index)\n",
    "    \n",
    "    return [data_centres[src], data_centres[dst]]\n",
    "\n",
    "# generate file transfer events\n",
    "def generate_events(index_name, type_name, num_of_events):\n",
    "    bulk_data = []\n",
    "    data = {\n",
    "        '_index': index_name,\n",
    "        '_type': type_name,\n",
    "        '_id': 0,\n",
    "        '_source': {\n",
    "        }\n",
    "    }\n",
    "    for i in range(700000, num_of_events):\n",
    "        if i % 1000 == 0:\n",
    "            print('.', end='')\n",
    "        [transfer_src, transfer_dst] = generate_data_centres()\n",
    "        transfer_start_time = generate_start_time(i)\n",
    "        filesize = generate_file_size()\n",
    "        uuid4 = generate_uuid()\n",
    "        \n",
    "        event = {\n",
    "            \"event_type\": event_types[0],\n",
    "            \"uuid\": uuid4,\n",
    "            \"bytes\": filesize,\n",
    "            \"src_site\": transfer_src,\n",
    "            \"dst_site\": transfer_dst,\n",
    "            \"timestamp\": transfer_start_time \n",
    "        }\n",
    "        \n",
    "        data[\"_id\"] = i * 2\n",
    "        data[\"_source\"] = copy.deepcopy(event)\n",
    "        bulk_data.append(copy.deepcopy(data))\n",
    "        \n",
    "        #res = es.index(index=index_name, doc_type=type_name, id=(i * 2), body=event)\n",
    "        #print(\"[\" + str(i) + \"]: \" + str(res[\"result\"]) + \", id: \" + str(res[\"_id\"]))\n",
    "        \n",
    "        end_event_type = generate_event_types()\n",
    "        end_timestamp = generate_end_time(transfer_start_time, filesize)\n",
    "        event[\"event_type\"] = end_event_type\n",
    "        event[\"timestamp\"] = end_timestamp\n",
    "        \n",
    "        data[\"_id\"] = i * 2 + 1\n",
    "        data[\"_source\"] = copy.deepcopy(event)\n",
    "        bulk_data.append(copy.deepcopy(data))\n",
    "        \n",
    "        #res = es.index(index=index_name, doc_type=type_name, id=(i * 2 + 1), body=event)\n",
    "        #print(\"[\" + str(i) + \"]: \" + str(res[\"result\"]) + \", id: \" + str(res[\"_id\"]))\n",
    "        \n",
    "        if i % 10000 == 9999:\n",
    "            bulk_generator = (x for x in bulk_data)\n",
    "            res = helpers.bulk(es, bulk_generator)\n",
    "            print(str(res))\n",
    "            bulk_data = []\n",
    "            \n",
    "    bulk_generator = (x for x in bulk_data)\n",
    "    res = helpers.bulk(es, bulk_generator)\n",
    "    print(str(res))"
   ]
  },
  {
   "cell_type": "code",
   "execution_count": 105,
   "metadata": {
    "collapsed": false,
    "scrolled": true
   },
   "outputs": [],
   "source": [
    "# test\n",
    "#generate_events(\"test9\", \"events\", 10)\n",
    "#generate_events(\"events\",\"batch1\", 1000000)"
   ]
  },
  {
   "cell_type": "code",
   "execution_count": 92,
   "metadata": {
    "collapsed": false
   },
   "outputs": [
    {
     "name": "stdout",
     "output_type": "stream",
     "text": [
      "{u'_type': u'events', u'_source': {u'uuid': u'9309dd3e-3619-4d05-84bf-78300db9c1cb', u'src_site': u'data centre d', u'timestamp': u'2017-03-16T01:28:14', u'bytes': 4984914450, u'dst_site': u'data centre b', u'event_type': u'transfer-queued'}, u'_index': u'test9', u'_version': 2, u'found': True, u'_id': u'18'}\n",
      "{u'_type': u'events', u'_source': {u'uuid': u'9309dd3e-3619-4d05-84bf-78300db9c1cb', u'src_site': u'data centre d', u'timestamp': u'2017-03-16T01:57:38', u'bytes': 4984914450, u'dst_site': u'data centre b', u'event_type': u'transfer-success'}, u'_index': u'test9', u'_version': 2, u'found': True, u'_id': u'19'}\n"
     ]
    }
   ],
   "source": [
    "print(es.get(index=\"test9\", doc_type='events', id=18))\n",
    "print(es.get(index=\"test9\", doc_type='events', id=19))"
   ]
  },
  {
   "cell_type": "code",
   "execution_count": 104,
   "metadata": {
    "collapsed": false
   },
   "outputs": [
    {
     "data": {
      "text/plain": [
       "{u'_shards': {u'failed': 0, u'successful': 5, u'total': 5}, u'count': 2000000}"
      ]
     },
     "execution_count": 104,
     "metadata": {},
     "output_type": "execute_result"
    }
   ],
   "source": [
    "es.count(index='events', doc_type='batch2')"
   ]
  },
  {
   "cell_type": "code",
   "execution_count": null,
   "metadata": {
    "collapsed": true
   },
   "outputs": [],
   "source": []
  }
 ],
 "metadata": {
  "kernelspec": {
   "display_name": "Python 2",
   "language": "python",
   "name": "python2"
  },
  "language_info": {
   "codemirror_mode": {
    "name": "ipython",
    "version": 2
   },
   "file_extension": ".py",
   "mimetype": "text/x-python",
   "name": "python",
   "nbconvert_exporter": "python",
   "pygments_lexer": "ipython2",
   "version": "2.7.13"
  }
 },
 "nbformat": 4,
 "nbformat_minor": 2
}
