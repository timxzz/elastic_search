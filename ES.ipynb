{
 "cells": [
  {
   "cell_type": "code",
   "execution_count": 11,
   "metadata": {
    "collapsed": false
   },
   "outputs": [
    {
     "data": {
      "text/plain": [
       "{u'active_primary_shards': 5,\n",
       " u'active_shards': 10,\n",
       " u'active_shards_percent_as_number': 100.0,\n",
       " u'cluster_name': u'86dd17d952698a0f90485f28a0087669',\n",
       " u'delayed_unassigned_shards': 0,\n",
       " u'initializing_shards': 0,\n",
       " u'number_of_data_nodes': 2,\n",
       " u'number_of_in_flight_fetch': 0,\n",
       " u'number_of_nodes': 3,\n",
       " u'number_of_pending_tasks': 0,\n",
       " u'relocating_shards': 0,\n",
       " u'status': u'green',\n",
       " u'task_max_waiting_in_queue_millis': 0,\n",
       " u'timed_out': False,\n",
       " u'unassigned_shards': 0}"
      ]
     },
     "execution_count": 11,
     "metadata": {},
     "output_type": "execute_result"
    }
   ],
   "source": [
    "from elasticsearch import Elasticsearch\n",
    "import urllib3\n",
    "urllib3.disable_warnings()\n",
    "\n",
    "\n",
    "es = Elasticsearch(\n",
    "    ['https://86dd17d952698a0f90485f28a0087669.eu-west-1.aws.found.io'],\n",
    "    port=9243,\n",
    "    http_auth='elastic:9X4hmUZXasOBuF49ujcGBqLS',\n",
    "    verify_certs=False\n",
    ")\n",
    "\n",
    "es.cluster.health()\n"
   ]
  },
  {
   "cell_type": "code",
   "execution_count": 15,
   "metadata": {
    "collapsed": false
   },
   "outputs": [
    {
     "data": {
      "text/plain": [
       "'2017-03-12T21:58:53'"
      ]
     },
     "execution_count": 15,
     "metadata": {},
     "output_type": "execute_result"
    }
   ],
   "source": [
    "import uuid\n",
    "str(uuid.uuid4())\n",
    "\n",
    "data_centres = [\"data centre a\",\n",
    "                \"data centre b\",\n",
    "                \"data centre c\",\n",
    "                \"data centre d\",\n",
    "                \"data centre e\"]\n",
    "\n",
    "event_types = [\"transfer-queued\", \"transfer-success\", \"transfer-failed\"]\n",
    "\n",
    "import datetime\n",
    "datetime.datetime.now().replace(microsecond=0).isoformat()\n",
    "\n",
    "#event={}"
   ]
  },
  {
   "cell_type": "code",
   "execution_count": 21,
   "metadata": {
    "collapsed": false
   },
   "outputs": [
    {
     "data": {
      "image/png": "[encoded data removed]",
      "text/plain": [
       "<matplotlib.figure.Figure at 0x7f452c506290>"
      ]
     },
     "metadata": {},
     "output_type": "display_data"
    }
   ],
   "source": [
    "import numpy as np\n",
    "\n",
    "import random\n",
    "mu1, sigma1=100, 0.5\n",
    "mu2, sigma2=2000, 0.5\n",
    "mu3, sigma3=5000, 0.5\n",
    "random.gauss(mu1, sigma1)\n",
    "\n",
    "s = np.random.normal(mu1, sigma1, 1000)\n",
    "s = np.random.normal(mu2, sigma2, 1000)\n",
    "s = np.random.normal(mu3, sigma3, 1000)\n",
    "import matplotlib.pyplot as plt\n",
    "import matplotlib.mlab as mlab\n",
    "import math\n",
    "\n",
    "x = np.linspace(0, 10000, 100)\n",
    "plt.plot(x,mlab.normpdf(x, mu1, sigma1))\n",
    "plt.plot(x,mlab.normpdf(x, mu2, sigma2))\n",
    "plt.plot(x,mlab.normpdf(x, mu3, sigma3))\n",
    "plt.show()"
   ]
  },
  {
   "cell_type": "code",
   "execution_count": null,
   "metadata": {
    "collapsed": true
   },
   "outputs": [],
   "source": []
  }
 ],
 "metadata": {
  "kernelspec": {
   "display_name": "Python 2",
   "language": "python",
   "name": "python2"
  },
  "language_info": {
   "codemirror_mode": {
    "name": "ipython",
    "version": 2
   },
   "file_extension": ".py",
   "mimetype": "text/x-python",
   "name": "python",
   "nbconvert_exporter": "python",
   "pygments_lexer": "ipython2",
   "version": "2.7.13"
  }
 },
 "nbformat": 4,
 "nbformat_minor": 2
}
